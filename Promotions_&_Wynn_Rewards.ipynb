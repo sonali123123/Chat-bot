{
  "nbformat": 4,
  "nbformat_minor": 0,
  "metadata": {
    "colab": {
      "provenance": []
    },
    "kernelspec": {
      "name": "python3",
      "display_name": "Python 3"
    },
    "language_info": {
      "name": "python"
    }
  },
  "cells": [
    {
      "cell_type": "markdown",
      "source": [
        "Casino Promotions\n"
      ],
      "metadata": {
        "id": "wbfdtGwzjF0U"
      }
    },
    {
      "cell_type": "code",
      "execution_count": null,
      "metadata": {
        "id": "gqV_Ksogb5p2"
      },
      "outputs": [],
      "source": [
        "\"intents\": [\n",
        "    {\n",
        "        \"tag\": \"join-wynn\",\n",
        "        \"patterns\": [\"Join & Wynn\", \"Sign up for Wynn Rewards\"],\n",
        "        \"responses\": [\n",
        "            \"New members score a choice of a $50 promotional gift card or $50 in free play and a chance at $10,000 in cash.\",\n",
        "            \"Sign up for Wynn Rewards and choose your gift of a $50 Encore promotional gift card or $50 in free slot or table play. Play with your new Wynn Rewards card to earn one tier credit and then be eligible to play a game for a chance at $10,000 in cash.\",\n",
        "            \"Visit any Wynn Rewards desk for more information.\"\n",
        "        ]\n",
        "    },\n",
        "    {\n",
        "        \"tag\": \"cash-blast-giveaway\",\n",
        "        \"patterns\": [\"$100,000 Cash Blast Giveaway\", \"Cash Blast Giveaway details\"],\n",
        "        \"responses\": [\n",
        "            \"Earn entries January 1 through 5:29 p.m. on January 28 for your chance to win $25,000 in cash.\",\n",
        "            \"On Sunday, January 28, from 12–5 p.m., 10 winners will be selected every half hour to win $250 in free play. At 5:30 p.m., 10 Grand Prize winners will be awarded $25,000, $20,000 or $15,000 in cash or up to $2,500 in free play.\",\n",
        "            \"All Wynn Rewards members receive a complimentary entry into the giveaway and can receive additional entries based on play. Entries must be activated beginning at 11 a.m. on January 28.\",\n",
        "            \"Join us on Sundays in January to multiply your chances to win:\",\n",
        "            \"- Red Tier: 5X entry multiplier\",\n",
        "            \"- Platinum Tier: 10X entry multiplier\",\n",
        "            \"- Black Tier: 20X entry multiplier\"\n",
        "    },\n",
        "\n",
        "    {\n",
        "        \"tag\": \"winners-celebration\",\n",
        "        \"patterns\": [\"Winner's Celebration details\", \"Join the January Winner’s Celebration\"],\n",
        "        \"responses\": [\n",
        "            \"Join us for winning festivities during the January Winner’s Celebration.\",\n",
        "            \"Guests who win a jackpot of $1,200 or more while playing their favorite eligible slot machine qualify for their share in the $75,000 free play drawing on Friday, January 26.\",\n",
        "            \"There will be 25 winners drawn every hour from 12–8 p.m.\"\n",
        "    },\n",
        "    {\n",
        "        \"tag\": \"50k-pull-tab\",\n",
        "        \"patterns\": [\"$50,000 Pull Tab\", \"Pull Tab promotion details\"],\n",
        "        \"responses\": [\n",
        "            \"We are giving out $50,000 in prizes on select Mondays.\",\n",
        "            \"For every 50 tier credits earned from 10 a.m.–7:30 p.m., you can claim a prize or see if you are one of the lucky voucher winners where you could win up to $10,000 in cash.\",\n",
        "            \"Simply swipe your Wynn Rewards card at any of our promotional kiosks located throughout the casino floor between 2–8 p.m. on Mondays, January 8, 22, and 29 to claim your prize.\",\n",
        "            \"All Pull Tab vouchers are a guaranteed win.\"\n",
        "        ]\n",
        "    },\n",
        "    {\n",
        "        \"tag\": \"hero-program\",\n",
        "        \"patterns\": [\"Hero Program details\", \"Exclusive rewards for heroes\"],\n",
        "        \"responses\": [\n",
        "            \"We are proud to recognize heroes by offering exclusive rewards as a token of our appreciation.\",\n",
        "            \"Visit the Wynn Rewards desk for a complimentary upgrade to Platinum Tier and enjoy benefits including:\",\n",
        "            \"- 10X multipliers for select promotions\",\n",
        "            \"- Priority access for promotion and event entry\",\n",
        "            \"- 10% discount on cash purchases at retail shops*, The Salon* and The Spa*, and dining**.\",\n",
        "            \"Hero Tier is available to veterans, active military, healthcare workers, firefighters, and police officers.\",\n",
        "            \"* Savings are on merchandise only. Excludes gift cards, tobacco, alcohol, food, beverages, sundry items, and purchases at Watches of Switzerland. Tier savings are only applicable to cash purchases.\",\n",
        "            \"** All restaurants except Rare, Fratelli, Mystique, Dunkin'®, Shake Shack, and Frank & Nick's; does not include alcohol; cannot be combined with other promotions/offers. Savings cannot be applied to dining specials. Tier savings are only applicable to cash purchases.\"\n",
        "        ]\n",
        "    },\n",
        "    {\n",
        "        \"tag\": \"casino-promotions\",\n",
        "        \"patterns\": [\"Casino Promotions\", \"Wynn Rewards benefits\", \"Member perks\"],\n",
        "        \"responses\": [\n",
        "            \"The Benefits You Deserve\",\n",
        "            \"As a Wynn Rewards member, enjoy exciting perks and special offers to earn sought-after benefits.\",\n",
        "            \"From daily, weekly, and monthly promotions to the vibrant gaming atmosphere, luxurious accommodations, and unique dining options, elevate your experience with Boston’s best loyalty program.\"\n",
        "        ]\n",
        "    }\n",
        "]"
      ]
    },
    {
      "cell_type": "markdown",
      "source": [
        "Wyn Rewards Program"
      ],
      "metadata": {
        "id": "BDOK3OCWj9MN"
      }
    },
    {
      "cell_type": "code",
      "source": [
        "\"intents\": [\n",
        "    {\n",
        "        \"tag\": \"earn-points\",\n",
        "        \"patterns\": [\"How to Earn Points\", \"Earning points at the casino\"],\n",
        "        \"responses\": [\n",
        "            \"Points are earned when you play slots and video poker.\",\n",
        "            \"Slots: You play $5 = 1 slot point\",\n",
        "            \"Video Poker: You play $10 or $20* = 1 point\",\n",
        "            \"*Based on the game\"\n",
        "        ]\n",
        "    },\n",
        "     {\n",
        "        \"tag\": \"free-slot-play\",\n",
        "        \"patterns\": [\"Free Slot Play details\", \"How to Earn and Use Free Slot Play\"],\n",
        "        \"responses\": [\n",
        "            \"HOW TO EARN\",\n",
        "            \"For every 500 slot points earned using your Wynn Rewards card at Encore Boston Harbor, you will receive $5 in free slot play.\",\n",
        "            \"The minimum redemption amount for free slot play is 500 slot points for $5.\",\n",
        "            \"You have 30 days to redeem your free slot play once your slot points are converted. Slot points will expire after six months of inactivity.\",\n",
        "            \"\",\n",
        "            \"HOW TO USE\",\n",
        "            \"Use your free slot play in select reel and video poker machines.\",\n",
        "            \"Enter your PIN to activate your free slot play.\",\n",
        "            \"Visit any Wynn Rewards desk to set up your confidential 4-digit PIN which gives you access to your account.\"\n",
        "        ]\n",
        "    },\n",
        "    {\n",
        "        \"tag\": \"compdollars\",\n",
        "        \"patterns\": [\"COMPDOLLARS details\", \"How to Earn and Use COMPDOLLARS\"],\n",
        "        \"responses\": [\n",
        "            \"HOW TO EARN\",\n",
        "            \"For reel slots, video poker machines, table games, and poker: comps are based on your average bet, type of game you play, and length of play.\",\n",
        "            \"Having your play tracked is easy. Simply insert your Wynn Rewards card into the slot machine, or hand it to the dealer before table game play.\",\n",
        "            \"Players are responsible for ensuring their play is being tracked.\",\n",
        "            \"\",\n",
        "            \"YOUR COMPS. YOUR WAY.\",\n",
        "            \"COMPDOLLARS can be redeemed for dining*, The Spa and The Salon, and at retail outlets.\",\n",
        "            \"You have six months to redeem your COMPDOLLARS.\",\n",
        "            \"All unused COMPDOLLARS expire six months from the date earned.\",\n",
        "            \"\",\n",
        "            \"To obtain your monthly win/loss statement, click [here](link) and sign into your Wynn Rewards card online account.\",\n",
        "            \"*Excludes Dunkin’.\"\n",
        "        ]\n",
        "    },\n",
        "      {\n",
        "        \"tag\": \"benefits-disclaimer\",\n",
        "        \"patterns\": [\"Benefits disclaimer\", \"Important information about benefits\"],\n",
        "        \"responses\": [\n",
        "            \"Benefits subject to change.\",\n",
        "            \"* Eligibility and prize value are based on play.\",\n",
        "            \"** One night based on play and availability.\",\n",
        "            \"**** All restaurants except Fratelli, Mystique, Dunkin'®, Shake Shack, Frank & Nick's, and In-Room Dining; does not include alcohol.\",\n",
        "            \"Savings cannot be applied to dining specials. Tier savings are only applicable to credit card, cash, or room charge purchases.\",\n",
        "            \"Management reserves all rights.\"\n",
        "        ]\n",
        "    }\n",
        "\n",
        "]"
      ],
      "metadata": {
        "id": "QG_Ej0XMj_oz"
      },
      "execution_count": null,
      "outputs": []
    }
  ]
}