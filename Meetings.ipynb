{
  "nbformat": 4,
  "nbformat_minor": 0,
  "metadata": {
    "colab": {
      "provenance": []
    },
    "kernelspec": {
      "name": "python3",
      "display_name": "Python 3"
    },
    "language_info": {
      "name": "python"
    }
  },
  "cells": [
    {
      "cell_type": "code",
      "execution_count": 1,
      "metadata": {
        "id": "fXbR9v0Jxmh9"
      },
      "outputs": [],
      "source": [
        "import pandas as pd\n",
        "import requests\n",
        "from bs4 import BeautifulSoup"
      ]
    },
    {
      "cell_type": "code",
      "source": [
        "webpage = requests.get(\"https://www.encorebostonharbor.com/meetings/plan-a-meeting\").text"
      ],
      "metadata": {
        "id": "YsjbPad-yTCQ"
      },
      "execution_count": 2,
      "outputs": []
    },
    {
      "cell_type": "code",
      "source": [
        "soup = BeautifulSoup(webpage,'lxml')"
      ],
      "metadata": {
        "id": "nArkI04NyXPP"
      },
      "execution_count": 3,
      "outputs": []
    },
    {
      "cell_type": "code",
      "source": [
        "meeting_plan_data = {\n",
        "    \"location\": \"Encore Boston Harbor\",\n",
        "    \"features\": [\n",
        "        \"Stylish spaces\",\n",
        "        \"Exclusive amenities\",\n",
        "        \"Impeccable service\",\n",
        "        \"Connected to major transportation hubs\",\n",
        "        \"Guest shuttles to Logan International Airport\",\n",
        "        \"Water shuttles to the city of Boston\",\n",
        "        \"Total area: 33 acres\",\n",
        "        \"Meeting spaces: 50,000 square feet\",\n",
        "        \"Ballroom: 37,000 square feet\",\n",
        "        \"Customizable meeting spaces: 10\",\n",
        "        \"Executive boardroom\",\n",
        "        \"Graceful promenade\",\n",
        "        \"Exclusive entrances to ballroom and conference spaces\",\n",
        "        \"Seasonal outdoor event space: 21,000 square feet\",\n",
        "        \"Waterfront lawns and gardens with a view of Boston Harbor\"\n",
        "    ],\n",
        "    \"contact_information\": {\n",
        "        \"catering_and_social_events\": {\n",
        "            \"phone\": \"(857) 770-4250\",\n",
        "            \"email\": \"catering@encorebostonharbor.com\"\n",
        "        },\n",
        "        \"meeting_and_event_sales\": {\n",
        "            \"phone\": \"(857) 770-4200\",\n",
        "            \"email\": \"groupsales@encorebostonharbor.com\"\n",
        "        }\n",
        "    },\n",
        "    \"booking_process\": {\n",
        "        \"description\": \"Fill out the information below and contact us for a personal consultation.\"\n",
        "    }\n",
        "}\n",
        "meeting_plan_data"
      ],
      "metadata": {
        "colab": {
          "base_uri": "https://localhost:8080/"
        },
        "id": "j_Wvtsi5ydH5",
        "outputId": "2cf6637c-8a22-40fc-f97f-08b29b88e120"
      },
      "execution_count": 4,
      "outputs": [
        {
          "output_type": "execute_result",
          "data": {
            "text/plain": [
              "{'location': 'Encore Boston Harbor',\n",
              " 'features': ['Stylish spaces',\n",
              "  'Exclusive amenities',\n",
              "  'Impeccable service',\n",
              "  'Connected to major transportation hubs',\n",
              "  'Guest shuttles to Logan International Airport',\n",
              "  'Water shuttles to the city of Boston',\n",
              "  'Total area: 33 acres',\n",
              "  'Meeting spaces: 50,000 square feet',\n",
              "  'Ballroom: 37,000 square feet',\n",
              "  'Customizable meeting spaces: 10',\n",
              "  'Executive boardroom',\n",
              "  'Graceful promenade',\n",
              "  'Exclusive entrances to ballroom and conference spaces',\n",
              "  'Seasonal outdoor event space: 21,000 square feet',\n",
              "  'Waterfront lawns and gardens with a view of Boston Harbor'],\n",
              " 'contact_information': {'catering_and_social_events': {'phone': '(857) 770-4250',\n",
              "   'email': 'catering@encorebostonharbor.com'},\n",
              "  'meeting_and_event_sales': {'phone': '(857) 770-4200',\n",
              "   'email': 'groupsales@encorebostonharbor.com'}},\n",
              " 'booking_process': {'description': 'Fill out the information below and contact us for a personal consultation.'}}"
            ]
          },
          "metadata": {},
          "execution_count": 4
        }
      ]
    },
    {
      "cell_type": "markdown",
      "source": [
        "**Weeding Data**"
      ],
      "metadata": {
        "id": "m6zbZbBizmLC"
      }
    },
    {
      "cell_type": "code",
      "source": [
        "perfectly_petite_data = {\n",
        "    \"event_name\": \"Perfectly Petite Wedding\",\n",
        "    \"details\": {\n",
        "        \"duration\": \"Two-and-a-half-hour celebration\",\n",
        "        \"timing\": \"10 a.m.–3 p.m.\",\n",
        "        \"guest_capacity\": {\n",
        "            \"minimum\": 20,\n",
        "            \"maximum\": 75\n",
        "        }\n",
        "    },\n",
        "    \"inclusions\": [\n",
        "        \"Personal wedding specialist\",\n",
        "        \"Ceremony in the gazebo or Harborside Lawn\",\n",
        "        \"Exclusive list of specially selected vendors\",\n",
        "        \"Welcome champagne and strawberry amenity for the wedding couple\",\n",
        "        \"10% Discount in Forbes Five-Star Spa and Salon for the Wedding Party\",\n",
        "        \"Priority booking for hosted rehearsal dinner and farewell brunch\",\n",
        "        \"Special room rates for guests\",\n",
        "        \"Complimentary self-parking\",\n",
        "        \"Complimentary upgrade to Signature Suite with views of Boston\",\n",
        "        \"Complimentary bridal bouquet and boutonniere\",\n",
        "        \"Access to master florists for customized wedding décor\",\n",
        "        \"Chefs brunch or high tea custom menus\",\n",
        "        \"Wedding cake enhancements\",\n",
        "        \"Reserved indoor back-up space\"\n",
        "    ],\n",
        "    \"pricing\": {\n",
        "        \"food_and_beverage_starting_at\": \"$130++ per person\",\n",
        "        \"rental_fee\": \"$2,000+ for ceremony in the gazebo and reception on the Harborside Lawn\",\n",
        "        \"additional_costs\": \"Exclusive of applicable taxes, fees, and gratuities\"\n",
        "    },\n",
        "    \"booking_contact\": {\n",
        "        \"phone\": \"(857) 770-4250\",\n",
        "        \"email\": \"catering@encorebostonharbor.com\"\n",
        "    }\n",
        "}\n",
        "perfectly_petite_data"
      ],
      "metadata": {
        "colab": {
          "base_uri": "https://localhost:8080/"
        },
        "id": "--0ZvVk-zFTP",
        "outputId": "922e27b1-1987-4356-8feb-c8323cbf6da5"
      },
      "execution_count": 5,
      "outputs": [
        {
          "output_type": "execute_result",
          "data": {
            "text/plain": [
              "{'event_name': 'Perfectly Petite Wedding',\n",
              " 'details': {'duration': 'Two-and-a-half-hour celebration',\n",
              "  'timing': '10 a.m.–3 p.m.',\n",
              "  'guest_capacity': {'minimum': 20, 'maximum': 75}},\n",
              " 'inclusions': ['Personal wedding specialist',\n",
              "  'Ceremony in the gazebo or Harborside Lawn',\n",
              "  'Exclusive list of specially selected vendors',\n",
              "  'Welcome champagne and strawberry amenity for the wedding couple',\n",
              "  '10% Discount in Forbes Five-Star Spa and Salon for the Wedding Party',\n",
              "  'Priority booking for hosted rehearsal dinner and farewell brunch',\n",
              "  'Special room rates for guests',\n",
              "  'Complimentary self-parking',\n",
              "  'Complimentary upgrade to Signature Suite with views of Boston',\n",
              "  'Complimentary bridal bouquet and boutonniere',\n",
              "  'Access to master florists for customized wedding décor',\n",
              "  'Chefs brunch or high tea custom menus',\n",
              "  'Wedding cake enhancements',\n",
              "  'Reserved indoor back-up space'],\n",
              " 'pricing': {'food_and_beverage_starting_at': '$130++ per person',\n",
              "  'rental_fee': '$2,000+ for ceremony in the gazebo and reception on the Harborside Lawn',\n",
              "  'additional_costs': 'Exclusive of applicable taxes, fees, and gratuities'},\n",
              " 'booking_contact': {'phone': '(857) 770-4250',\n",
              "  'email': 'catering@encorebostonharbor.com'}}"
            ]
          },
          "metadata": {},
          "execution_count": 5
        }
      ]
    },
    {
      "cell_type": "code",
      "source": [
        "grand_affair_data = {\n",
        "    \"event_name\": \"The Grand Affair Celebration\",\n",
        "    \"details\": \"Unforgettable wedding celebration designed as the perfect beginning of your lives together.\",\n",
        "    \"inclusions\": [\n",
        "        \"Personal wedding specialist\",\n",
        "        \"Dedicated ceremony coordination\",\n",
        "        \"Exclusive list of specially selected vendors\",\n",
        "        \"Welcome champagne and strawberry amenity\",\n",
        "        \"Personalized menu cards\",\n",
        "        \"Exclusive Spa and Salon wedding packages for pre-ceremony preparation\",\n",
        "        \"Priority booking for hosted rehearsal dinner and farewell brunch\",\n",
        "        \"Group room rate available for wedding attendees\",\n",
        "        \"Complimentary Tower Suites arrival and check-in for wedding couple\",\n",
        "        \"Complimentary upgrade to our Signature Suite for your wedding night\",\n",
        "        \"Priority access to concierge services\",\n",
        "        \"Access to award-winning cake artists and master florists for customization\"\n",
        "    ],\n",
        "    \"pricing\": {\n",
        "        \"food_and_beverage_minimum\": \"$295 per person\",\n",
        "        \"ceremony_and_room_rental_fees\": \"Based on spacing needs\",\n",
        "        \"additional_costs\": \"Exclusive of applicable taxes, fees, and gratuities\"\n",
        "    },\n",
        "    \"requirements\": {\n",
        "        \"minimum_guests\": 150\n",
        "    },\n",
        "    \"booking_contact\": {\n",
        "        \"phone\": \"(857) 770-4250\",\n",
        "        \"email\": \"catering@encorebostonharbor.com\"\n",
        "    }\n",
        "}\n",
        "grand_affair_data"
      ],
      "metadata": {
        "colab": {
          "base_uri": "https://localhost:8080/"
        },
        "id": "nQleiQEVztXH",
        "outputId": "917137a1-a7f9-41c6-8c9d-e5161b387dee"
      },
      "execution_count": 6,
      "outputs": [
        {
          "output_type": "execute_result",
          "data": {
            "text/plain": [
              "{'event_name': 'The Grand Affair Celebration',\n",
              " 'details': 'Unforgettable wedding celebration designed as the perfect beginning of your lives together.',\n",
              " 'inclusions': ['Personal wedding specialist',\n",
              "  'Dedicated ceremony coordination',\n",
              "  'Exclusive list of specially selected vendors',\n",
              "  'Welcome champagne and strawberry amenity',\n",
              "  'Personalized menu cards',\n",
              "  'Exclusive Spa and Salon wedding packages for pre-ceremony preparation',\n",
              "  'Priority booking for hosted rehearsal dinner and farewell brunch',\n",
              "  'Group room rate available for wedding attendees',\n",
              "  'Complimentary Tower Suites arrival and check-in for wedding couple',\n",
              "  'Complimentary upgrade to our Signature Suite for your wedding night',\n",
              "  'Priority access to concierge services',\n",
              "  'Access to award-winning cake artists and master florists for customization'],\n",
              " 'pricing': {'food_and_beverage_minimum': '$295 per person',\n",
              "  'ceremony_and_room_rental_fees': 'Based on spacing needs',\n",
              "  'additional_costs': 'Exclusive of applicable taxes, fees, and gratuities'},\n",
              " 'requirements': {'minimum_guests': 150},\n",
              " 'booking_contact': {'phone': '(857) 770-4250',\n",
              "  'email': 'catering@encorebostonharbor.com'}}"
            ]
          },
          "metadata": {},
          "execution_count": 6
        }
      ]
    },
    {
      "cell_type": "code",
      "source": [
        "weddings_data = {\n",
        "    \"general_info\": {\n",
        "        \"location\": \"Encore Boston Harbor\",\n",
        "        \"description\": \"Exceptional waterfront location with lush gardens, lawns, picturesque gazebo, sophisticated ballrooms, and restaurants.\",\n",
        "        \"purpose\": \"Built for the ultimate grand (or intimate) wedding.\"\n",
        "    },\n",
        "    \"Grand_Affair_Data\" : grand_affair_data,\n",
        "    \"Perfectly_Petite_Data\" : perfectly_petite_data\n",
        "    }\n",
        "weddings_data"
      ],
      "metadata": {
        "colab": {
          "base_uri": "https://localhost:8080/"
        },
        "id": "H3yC3N3lz_Sg",
        "outputId": "a551753e-b673-4e64-c2e9-7b8a69458319"
      },
      "execution_count": 7,
      "outputs": [
        {
          "output_type": "execute_result",
          "data": {
            "text/plain": [
              "{'general_info': {'location': 'Encore Boston Harbor',\n",
              "  'description': 'Exceptional waterfront location with lush gardens, lawns, picturesque gazebo, sophisticated ballrooms, and restaurants.',\n",
              "  'purpose': 'Built for the ultimate grand (or intimate) wedding.'},\n",
              " 'Grand_Affair_Data': {'event_name': 'The Grand Affair Celebration',\n",
              "  'details': 'Unforgettable wedding celebration designed as the perfect beginning of your lives together.',\n",
              "  'inclusions': ['Personal wedding specialist',\n",
              "   'Dedicated ceremony coordination',\n",
              "   'Exclusive list of specially selected vendors',\n",
              "   'Welcome champagne and strawberry amenity',\n",
              "   'Personalized menu cards',\n",
              "   'Exclusive Spa and Salon wedding packages for pre-ceremony preparation',\n",
              "   'Priority booking for hosted rehearsal dinner and farewell brunch',\n",
              "   'Group room rate available for wedding attendees',\n",
              "   'Complimentary Tower Suites arrival and check-in for wedding couple',\n",
              "   'Complimentary upgrade to our Signature Suite for your wedding night',\n",
              "   'Priority access to concierge services',\n",
              "   'Access to award-winning cake artists and master florists for customization'],\n",
              "  'pricing': {'food_and_beverage_minimum': '$295 per person',\n",
              "   'ceremony_and_room_rental_fees': 'Based on spacing needs',\n",
              "   'additional_costs': 'Exclusive of applicable taxes, fees, and gratuities'},\n",
              "  'requirements': {'minimum_guests': 150},\n",
              "  'booking_contact': {'phone': '(857) 770-4250',\n",
              "   'email': 'catering@encorebostonharbor.com'}},\n",
              " 'Perfectly_Petite_Data': {'event_name': 'Perfectly Petite Wedding',\n",
              "  'details': {'duration': 'Two-and-a-half-hour celebration',\n",
              "   'timing': '10 a.m.–3 p.m.',\n",
              "   'guest_capacity': {'minimum': 20, 'maximum': 75}},\n",
              "  'inclusions': ['Personal wedding specialist',\n",
              "   'Ceremony in the gazebo or Harborside Lawn',\n",
              "   'Exclusive list of specially selected vendors',\n",
              "   'Welcome champagne and strawberry amenity for the wedding couple',\n",
              "   '10% Discount in Forbes Five-Star Spa and Salon for the Wedding Party',\n",
              "   'Priority booking for hosted rehearsal dinner and farewell brunch',\n",
              "   'Special room rates for guests',\n",
              "   'Complimentary self-parking',\n",
              "   'Complimentary upgrade to Signature Suite with views of Boston',\n",
              "   'Complimentary bridal bouquet and boutonniere',\n",
              "   'Access to master florists for customized wedding décor',\n",
              "   'Chefs brunch or high tea custom menus',\n",
              "   'Wedding cake enhancements',\n",
              "   'Reserved indoor back-up space'],\n",
              "  'pricing': {'food_and_beverage_starting_at': '$130++ per person',\n",
              "   'rental_fee': '$2,000+ for ceremony in the gazebo and reception on the Harborside Lawn',\n",
              "   'additional_costs': 'Exclusive of applicable taxes, fees, and gratuities'},\n",
              "  'booking_contact': {'phone': '(857) 770-4250',\n",
              "   'email': 'catering@encorebostonharbor.com'}}}"
            ]
          },
          "metadata": {},
          "execution_count": 7
        }
      ]
    },
    {
      "cell_type": "code",
      "source": [
        "catering_social_events_data =  {\"Details\": \"Allow our award-winning catering team to elevate your wedding, meeting or social event with exceptional food, decor and service. Our renowned Executive Chefs will ensure everything is perfectly prepared and artfully presented. With the largest ballroom in the city, a beautiful event lawn and smaller intimate spaces, we can create any ambiance for any sized group. Combine the majestic scenery that spans the entirety of Encore Boston Harbor, and you can look forward to an event of great taste on every level.\"}\n",
        "catering_social_events_data"
      ],
      "metadata": {
        "colab": {
          "base_uri": "https://localhost:8080/"
        },
        "id": "5weJG9Ue3Q7X",
        "outputId": "fd8c20b7-a43d-45a3-8961-80c18afe3383"
      },
      "execution_count": 8,
      "outputs": [
        {
          "output_type": "execute_result",
          "data": {
            "text/plain": [
              "{'Details': 'Allow our award-winning catering team to elevate your wedding, meeting or social event with exceptional food, decor and service. Our renowned Executive Chefs will ensure everything is perfectly prepared and artfully presented. With the largest ballroom in the city, a beautiful event lawn and smaller intimate spaces, we can create any ambiance for any sized group. Combine the majestic scenery that spans the entirety of Encore Boston Harbor, and you can look forward to an event of great taste on every level.'}"
            ]
          },
          "metadata": {},
          "execution_count": 8
        }
      ]
    },
    {
      "cell_type": "code",
      "source": [
        "encore_boston_harbor_data = {\n",
        "    \"location\": {\n",
        "        \"description\": \"Encore Boston Harbor sits on 33 acres right on the historic Boston Harbor.\",\n",
        "        \"proximity\": \"Only five miles from Logan International Airport.\",\n",
        "        \"connectivity\": \"Connected to Boston via our own fleet of Encore Boston Harbor water shuttles.\"\n",
        "    },\n",
        "    \"event_space\": {\n",
        "        \"total_area\": \"50,000 square feet of state-of-the-art meeting and event space.\",\n",
        "        \"grand_ballroom\": \"37,000 square-foot divisible grand ballroom.\",\n",
        "        \"customizable_spaces\": \"10 meeting spaces that can be customized.\",\n",
        "        \"restaurants_and_lounges\": \"15 restaurants and lounges.\",\n",
        "        \"hotel_rooms\": \"650 square-foot hotel rooms, the largest guest rooms in the city.\"\n",
        "    },\n",
        "    \"accommodation\": \"The resort can comfortably accommodate any event from a global conference to the most intimate wedding.\",\n",
        "    \"layout\": {\n",
        "        \"single_level\": \"All thoughtfully appointed spaces are located on a single level overlooking the harbor.\",\n",
        "        \"waterfront_event_lawn\": \"A 21,000 square-foot waterfront event lawn distinguishes Encore Boston Harbor as one of the grandest event venues in the country.\"\n",
        "    }\n",
        "}\n"
      ],
      "metadata": {
        "id": "Barl0uTH37Os"
      },
      "execution_count": 9,
      "outputs": []
    },
    {
      "cell_type": "code",
      "source": [
        "Meetings_Data = {\n",
        "    \"Details\" : encore_boston_harbor_data,\n",
        "    \"Meetings_Opportunities\" : {\n",
        "        \"Meeting_plan_data\" : meeting_plan_data,\n",
        "        \"Weedings_data\" : weddings_data,\n",
        "        \"Catering_social_events_data \" : catering_social_events_data\n",
        "    }\n",
        "}\n",
        "\n",
        "Meetings_Data"
      ],
      "metadata": {
        "colab": {
          "base_uri": "https://localhost:8080/"
        },
        "id": "2idac3SV5Imy",
        "outputId": "aead27d1-63f2-43b6-ed97-60edd89c76f6"
      },
      "execution_count": 11,
      "outputs": [
        {
          "output_type": "execute_result",
          "data": {
            "text/plain": [
              "{'Details': {'location': {'description': 'Encore Boston Harbor sits on 33 acres right on the historic Boston Harbor.',\n",
              "   'proximity': 'Only five miles from Logan International Airport.',\n",
              "   'connectivity': 'Connected to Boston via our own fleet of Encore Boston Harbor water shuttles.'},\n",
              "  'event_space': {'total_area': '50,000 square feet of state-of-the-art meeting and event space.',\n",
              "   'grand_ballroom': '37,000 square-foot divisible grand ballroom.',\n",
              "   'customizable_spaces': '10 meeting spaces that can be customized.',\n",
              "   'restaurants_and_lounges': '15 restaurants and lounges.',\n",
              "   'hotel_rooms': '650 square-foot hotel rooms, the largest guest rooms in the city.'},\n",
              "  'accommodation': 'The resort can comfortably accommodate any event from a global conference to the most intimate wedding.',\n",
              "  'layout': {'single_level': 'All thoughtfully appointed spaces are located on a single level overlooking the harbor.',\n",
              "   'waterfront_event_lawn': 'A 21,000 square-foot waterfront event lawn distinguishes Encore Boston Harbor as one of the grandest event venues in the country.'}},\n",
              " 'Meetings_Opportunities': {'Meeting_plan_data': {'location': 'Encore Boston Harbor',\n",
              "   'features': ['Stylish spaces',\n",
              "    'Exclusive amenities',\n",
              "    'Impeccable service',\n",
              "    'Connected to major transportation hubs',\n",
              "    'Guest shuttles to Logan International Airport',\n",
              "    'Water shuttles to the city of Boston',\n",
              "    'Total area: 33 acres',\n",
              "    'Meeting spaces: 50,000 square feet',\n",
              "    'Ballroom: 37,000 square feet',\n",
              "    'Customizable meeting spaces: 10',\n",
              "    'Executive boardroom',\n",
              "    'Graceful promenade',\n",
              "    'Exclusive entrances to ballroom and conference spaces',\n",
              "    'Seasonal outdoor event space: 21,000 square feet',\n",
              "    'Waterfront lawns and gardens with a view of Boston Harbor'],\n",
              "   'contact_information': {'catering_and_social_events': {'phone': '(857) 770-4250',\n",
              "     'email': 'catering@encorebostonharbor.com'},\n",
              "    'meeting_and_event_sales': {'phone': '(857) 770-4200',\n",
              "     'email': 'groupsales@encorebostonharbor.com'}},\n",
              "   'booking_process': {'description': 'Fill out the information below and contact us for a personal consultation.'}},\n",
              "  'Weedings_data': {'general_info': {'location': 'Encore Boston Harbor',\n",
              "    'description': 'Exceptional waterfront location with lush gardens, lawns, picturesque gazebo, sophisticated ballrooms, and restaurants.',\n",
              "    'purpose': 'Built for the ultimate grand (or intimate) wedding.'},\n",
              "   'Grand_Affair_Data': {'event_name': 'The Grand Affair Celebration',\n",
              "    'details': 'Unforgettable wedding celebration designed as the perfect beginning of your lives together.',\n",
              "    'inclusions': ['Personal wedding specialist',\n",
              "     'Dedicated ceremony coordination',\n",
              "     'Exclusive list of specially selected vendors',\n",
              "     'Welcome champagne and strawberry amenity',\n",
              "     'Personalized menu cards',\n",
              "     'Exclusive Spa and Salon wedding packages for pre-ceremony preparation',\n",
              "     'Priority booking for hosted rehearsal dinner and farewell brunch',\n",
              "     'Group room rate available for wedding attendees',\n",
              "     'Complimentary Tower Suites arrival and check-in for wedding couple',\n",
              "     'Complimentary upgrade to our Signature Suite for your wedding night',\n",
              "     'Priority access to concierge services',\n",
              "     'Access to award-winning cake artists and master florists for customization'],\n",
              "    'pricing': {'food_and_beverage_minimum': '$295 per person',\n",
              "     'ceremony_and_room_rental_fees': 'Based on spacing needs',\n",
              "     'additional_costs': 'Exclusive of applicable taxes, fees, and gratuities'},\n",
              "    'requirements': {'minimum_guests': 150},\n",
              "    'booking_contact': {'phone': '(857) 770-4250',\n",
              "     'email': 'catering@encorebostonharbor.com'}},\n",
              "   'Perfectly_Petite_Data': {'event_name': 'Perfectly Petite Wedding',\n",
              "    'details': {'duration': 'Two-and-a-half-hour celebration',\n",
              "     'timing': '10 a.m.–3 p.m.',\n",
              "     'guest_capacity': {'minimum': 20, 'maximum': 75}},\n",
              "    'inclusions': ['Personal wedding specialist',\n",
              "     'Ceremony in the gazebo or Harborside Lawn',\n",
              "     'Exclusive list of specially selected vendors',\n",
              "     'Welcome champagne and strawberry amenity for the wedding couple',\n",
              "     '10% Discount in Forbes Five-Star Spa and Salon for the Wedding Party',\n",
              "     'Priority booking for hosted rehearsal dinner and farewell brunch',\n",
              "     'Special room rates for guests',\n",
              "     'Complimentary self-parking',\n",
              "     'Complimentary upgrade to Signature Suite with views of Boston',\n",
              "     'Complimentary bridal bouquet and boutonniere',\n",
              "     'Access to master florists for customized wedding décor',\n",
              "     'Chefs brunch or high tea custom menus',\n",
              "     'Wedding cake enhancements',\n",
              "     'Reserved indoor back-up space'],\n",
              "    'pricing': {'food_and_beverage_starting_at': '$130++ per person',\n",
              "     'rental_fee': '$2,000+ for ceremony in the gazebo and reception on the Harborside Lawn',\n",
              "     'additional_costs': 'Exclusive of applicable taxes, fees, and gratuities'},\n",
              "    'booking_contact': {'phone': '(857) 770-4250',\n",
              "     'email': 'catering@encorebostonharbor.com'}}},\n",
              "  'Catering_social_events_data ': {'Details': 'Allow our award-winning catering team to elevate your wedding, meeting or social event with exceptional food, decor and service. Our renowned Executive Chefs will ensure everything is perfectly prepared and artfully presented. With the largest ballroom in the city, a beautiful event lawn and smaller intimate spaces, we can create any ambiance for any sized group. Combine the majestic scenery that spans the entirety of Encore Boston Harbor, and you can look forward to an event of great taste on every level.'}}}"
            ]
          },
          "metadata": {},
          "execution_count": 11
        }
      ]
    },
    {
      "cell_type": "code",
      "source": [],
      "metadata": {
        "id": "tXZhX4Jb6EjQ"
      },
      "execution_count": null,
      "outputs": []
    }
  ]
}