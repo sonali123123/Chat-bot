{
  "nbformat": 4,
  "nbformat_minor": 0,
  "metadata": {
    "colab": {
      "provenance": []
    },
    "kernelspec": {
      "name": "python3",
      "display_name": "Python 3"
    },
    "language_info": {
      "name": "python"
    }
  },
  "cells": [
    {
      "cell_type": "code",
      "execution_count": 1,
      "metadata": {
        "id": "fUGhAFa7Fjgh"
      },
      "outputs": [],
      "source": [
        "import pandas as pd\n",
        "import requests\n",
        "from bs4 import BeautifulSoup"
      ]
    },
    {
      "cell_type": "markdown",
      "source": [
        "**Ways to Go Encore Boston Harbour**"
      ],
      "metadata": {
        "id": "i2UG7aDpJyeV"
      }
    },
    {
      "cell_type": "code",
      "source": [
        "webpage = requests.get(\"https://www.encorebostonharbor.com/transportation/directions\").text\n",
        "soup = BeautifulSoup(webpage,'lxml')"
      ],
      "metadata": {
        "id": "DtBWcDXvGsWi"
      },
      "execution_count": 2,
      "outputs": []
    },
    {
      "cell_type": "code",
      "source": [
        "location_data = {\n",
        "    'MASSACHUSETTS': {\n",
        "        'WITHIN BOSTON': {\n",
        "            'MBTA Orange Line': 'Take the MBTA Orange Line to Wellington station where our free, frequent Encore Shuttle will bring you to our front door. Take the MBTA Orange Line to Sullivan Station, and take MBTA Bus Routes 104, 105 and 109 to Encore. Visit the MBTA for up-to-date subway and bus information.',\n",
        "            'MBTA Silver Line': 'Take the MBTA Silver Line (SL3) to Chelsea Station, then ride our free Encore Neighborhood Runner to the resort from our bus stop located next to Market Basket.',\n",
        "            'MBTA Blue Line': 'Take the MBTA to Aquarium Station and hop on the Encore Premium Harbor Shuttle for a direct ride to the resort from Long Wharf, located at the MBTA dock near Christopher Columbus Park.',\n",
        "            'Chinatown Runner': 'Take our luxury Encore minicoach in downtown Boston, MA directly to the resort. The free pickup and drop off location is at the corner of John F Fitzgerald Surface Road at Kneeland Street. There is no parking at that location, so please plan accordingly. Learn more.',\n",
        "            'Premium Harbor Shuttle': 'Cruise to Encore Boston Harbor in style on our Premium Harbor Shuttle, leaving from Long Wharf in downtown Boston at the MBTA dock near Christopher Columbus Park.',\n",
        "            'Bicycle': 'Ride your bike to the resort and take advantage of our ample bicycle parking. Or, rent a BlueBike from one of dozens of locations around the city and drop it off at our on-site BlueBikes dock.',\n",
        "            'Everett Neighborhood Runner': 'Our Encore Neighborhood Runner will pick you up from our shuttle stop across from the Chelsea Silver Line station and select locations in Everett. This is a free, convenient ride that runs daily and drops you off right at our front door. Learn more.'\n",
        "        },\n",
        "        'NORTH SHORE': {\n",
        "            'Commuter Rail or MBTA': 'Take the Newburyport or Rockport Commuter Rail to Chelsea Commuter Rail Station and walk .5 miles to our nearest Encore Neighborhood Runner bus stop located beside Market Basket and across from the MBTA Silver Line Chelsea Station. Take the free Encore Neighborhood Runner to Encore.',\n",
        "            'Amtrak Downeaster': 'Take the Amtrak Downeaster to North Station. Hop on the MBTA Orange Line to Wellington, where our free, frequent Encore Shuttle will bring you to our front door.',\n",
        "            'Commuter Rail': 'Hop on the Haverhill Rail to the MBTA Malden Station. Take the MBTA Orange Line to Wellington, where our free, frequent Encore Shuttle will bring you to the resort.'\n",
        "        },\n",
        "        'SOUTH OF BOSTON and CAPE COD': {\n",
        "            'Commuter Rail or MBTA': 'Take your local Commuter Rail Line to South Station or park your car at the Quincy MBTA parking lot and ride the T. Once in Boston, take the MBTA Orange Line to Wellington, where our free, frequent Encore Shuttle will bring you to our front door.'\n",
        "        },\n",
        "        'WEST OF BOSTON': {\n",
        "            'Commuter Rail': 'Hop on your local Commuter Rail Line into Boston. Take the MBTA Orange Line to Wellington, where our free, frequent Encore shuttle service will bring you to our front door.'\n",
        "        }\n",
        "    },\n",
        "    'NEW HAMPSHIRE, VERMONT, MAINE': {\n",
        "        'Amtrak Downeaster': 'Take the Amtrak Downeaster to North Station. Hop on the MBTA Orange Line to Wellington, where our free, frequent Encore Shuttle will bring you to our front door.',\n",
        "        'Commuter Rail or MBTA': 'Take the Newburyport Commuter Rail to North Station or park your car at the Wonderland MBTA parking lot and ride the T. Or, from Wonderland, take the MBTA to Aquarium and hop on the Encore Premium Harbor Shuttle for service directly to the resort from Long Wharf in downtown Boston, at the MBTA dock located near Christopher Columbus Park.'\n",
        "    },\n",
        "    'RHODE ISLAND': {\n",
        "        'Commuter Rail': 'Hop on the Providence/Stoughton Commuter Rail to Back Bay. Take the MBTA Orange Line to Wellington, where our free, frequent Encore Shuttle will bring you to the resort.'\n",
        "    },\n",
        "    'CONNECTICUT, NEW YORK, NEW JERSEY': {\n",
        "        'From Back Bay Station': 'Take the MBTA Orange Line to Wellington where our free, frequent Encore Shuttle will bring you to our front door.',\n",
        "        'From South Station': 'Take the MBTA Red Line to the Orange Line via Downtown Crossing, where our free, frequent Encore Shuttle will bring you from Wellington MBTA Station to our front door.'\n",
        "    },\n",
        "    'FROM LOGAN AIRPORT': {\n",
        "        'MBTA': 'Take the MBTA Blue Line to the Orange Line via State, then relax on our free Encore Shuttle from Wellington MBTA Station to the resort.'\n",
        "    }\n",
        "}\n",
        "\n",
        "\n"
      ],
      "metadata": {
        "id": "6MfDALINKIiJ"
      },
      "execution_count": 11,
      "outputs": []
    },
    {
      "cell_type": "code",
      "source": [
        "Directions  = {\"Details\": \"Whether you are traveling here from the North Shore or West Boston, New Hampshire or New Jersey, you have a choice of public and Encore transportation. See how to get to Encore Boston Harbor from where you live. \",\n",
        "                \"Location_data\" : location_data\n",
        "              }\n",
        "Directions"
      ],
      "metadata": {
        "colab": {
          "base_uri": "https://localhost:8080/"
        },
        "id": "viGavfHeLqGv",
        "outputId": "e8a1a42b-f0ba-49a8-cc2d-090df7cc867f"
      },
      "execution_count": 10,
      "outputs": [
        {
          "output_type": "execute_result",
          "data": {
            "text/plain": [
              "{'Details': 'Whether you are traveling here from the North Shore or West Boston, New Hampshire or New Jersey, you have a choice of public and Encore transportation. See how to get to Encore Boston Harbor from where you live. ',\n",
              " 'Location_data': {'MASSACHUSETTS': {'WITHIN BOSTON': {'MBTA Orange Line': 'Take the MBTA Orange Line to Wellington station where our free, frequent Encore Shuttle will bring you to our front door. Take the MBTA Orange Line to Sullivan Station, and take MBTA Bus Routes 104, 105 and 109 to Encore. Visit the MBTA for up-to-date subway and bus information.',\n",
              "    'MBTA Silver Line': 'Take the MBTA Silver Line (SL3) to Chelsea Station, then ride our free Encore Neighborhood Runner to the resort from our bus stop located next to Market Basket.',\n",
              "    'MBTA Blue Line': 'Take the MBTA to Aquarium Station and hop on the Encore Premium Harbor Shuttle for a direct ride to the resort from Long Wharf, located at the MBTA dock near Christopher Columbus Park.',\n",
              "    'Chinatown Runner': 'Take our luxury Encore minicoach in downtown Boston, MA directly to the resort. The free pickup and drop off location is at the corner of John F Fitzgerald Surface Road at Kneeland Street. There is no parking at that location, so please plan accordingly. Learn more.',\n",
              "    'Premium Harbor Shuttle': 'Cruise to Encore Boston Harbor in style on our Premium Harbor Shuttle, leaving from Long Wharf in downtown Boston at the MBTA dock near Christopher Columbus Park.',\n",
              "    'Bicycle': 'Ride your bike to the resort and take advantage of our ample bicycle parking. Or, rent a BlueBike from one of dozens of locations around the city and drop it off at our on-site BlueBikes dock.',\n",
              "    'Everett Neighborhood Runner': 'Our Encore Neighborhood Runner will pick you up from our shuttle stop across from the Chelsea Silver Line station and select locations in Everett. This is a free, convenient ride that runs daily and drops you off right at our front door. Learn more.'},\n",
              "   'NORTH SHORE': {'Commuter Rail or MBTA': 'Take the Newburyport or Rockport Commuter Rail to Chelsea Commuter Rail Station and walk .5 miles to our nearest Encore Neighborhood Runner bus stop located beside Market Basket and across from the MBTA Silver Line Chelsea Station. Take the free Encore Neighborhood Runner to Encore.',\n",
              "    'Amtrak Downeaster': 'Take the Amtrak Downeaster to North Station. Hop on the MBTA Orange Line to Wellington, where our free, frequent Encore Shuttle will bring you to our front door.',\n",
              "    'Commuter Rail': 'Hop on the Haverhill Rail to the MBTA Malden Station. Take the MBTA Orange Line to Wellington, where our free, frequent Encore Shuttle will bring you to the resort.'},\n",
              "   'SOUTH OF BOSTON and CAPE COD': {'Commuter Rail or MBTA': 'Take your local Commuter Rail Line to South Station or park your car at the Quincy MBTA parking lot and ride the T. Once in Boston, take the MBTA Orange Line to Wellington, where our free, frequent Encore Shuttle will bring you to our front door.'},\n",
              "   'WEST OF BOSTON': {'Commuter Rail': 'Hop on your local Commuter Rail Line into Boston. Take the MBTA Orange Line to Wellington, where our free, frequent Encore shuttle service will bring you to our front door.'}},\n",
              "  'NEW HAMPSHIRE, VERMONT, MAINE': {'Amtrak Downeaster': 'Take the Amtrak Downeaster to North Station. Hop on the MBTA Orange Line to Wellington, where our free, frequent Encore Shuttle will bring you to our front door.',\n",
              "   'Commuter Rail or MBTA': 'Take the Newburyport Commuter Rail to North Station or park your car at the Wonderland MBTA parking lot and ride the T. Or, from Wonderland, take the MBTA to Aquarium and hop on the Encore Premium Harbor Shuttle for service directly to the resort from Long Wharf in downtown Boston, at the MBTA dock located near Christopher Columbus Park.'},\n",
              "  'RHODE ISLAND': {'Commuter Rail': 'Hop on the Providence/Stoughton Commuter Rail to Back Bay. Take the MBTA Orange Line to Wellington, where our free, frequent Encore Shuttle will bring you to the resort.'},\n",
              "  'CONNECTICUT, NEW YORK, NEW JERSEY': {'From Back Bay Station': 'Take the MBTA Orange Line to Wellington where our free, frequent Encore Shuttle will bring you to our front door.',\n",
              "   'From South Station': 'Take the MBTA Red Line to the Orange Line via Downtown Crossing, where our free, frequent Encore Shuttle will bring you from Wellington MBTA Station to our front door.'},\n",
              "  'FROM LOGAN AIRPORT': {'MBTA': 'Take the MBTA Blue Line to the Orange Line via State, then relax on our free Encore Shuttle from Wellington MBTA Station to the resort.'}}}"
            ]
          },
          "metadata": {},
          "execution_count": 10
        }
      ]
    },
    {
      "cell_type": "code",
      "source": [
        "parking_options = {\n",
        "    'Onsite Parking': {\n",
        "        'Description': 'If you plan on driving here, we offer convenient, indoor parking with direct access to our resort. Encore Boston Harbor is now offering free self-parking daily. On weekends and holidays, we recommend visitors use our free Encore shuttles from the Wellington MBTA stations, or park at Encore\\'s Rivergreen facility in Everett and take our free Neighborhood Runner shuttle which runs 7 days-a-week. Learn more. See more information about parking below.',\n",
        "        'Cost': 'FREE. Self-Parking is complimentary for all guests, subject to availability.',\n",
        "        'AdditionalInfo': 'Complimentary electric vehicle charging stations are conveniently located on every level of the self-parking garage.'\n",
        "    },\n",
        "    'Valet Services': {\n",
        "        'Description': 'Valet parking service is available to all guests, subject to availability. Just pull up to our main entrance at the Porte Cochère, look for one of our valet attendants and leave the parking to us.',\n",
        "        'Cost': {\n",
        "            'Wynn Rewards Members': 'FREE',\n",
        "            'Guests': '$5'\n",
        "        }\n",
        "    },\n",
        "    'Electronic Vehicle Charging': {\n",
        "        'Description': 'Plug in and charge up for free while you play, dine, shop, and explore.',\n",
        "        'Details': 'Encore Boston Harbor offers 59 EV charging stations conveniently located in self-parking and valet. They are all free. Never search for a spot to charge—check out our charging stations with eight spots located in Black Tier Parking, and an additional 40 on levels B2 and B3 of the free self-parking garage. Each charging port features 25 feet of cable with an output of 208v and 64 amps. If you are using valet, ask an attendant to plug in your vehicle.',\n",
        "        'Cost': 'FREE.'\n",
        "    },\n",
        "    'Offsite Parking': {\n",
        "        'Description': 'We offer additional parking at offsite locations near our resort. You can also park at select locations around Boston, then let a free Encore Shuttle or Runner take you the rest of the way.',\n",
        "        'Community Parking Lot': {\n",
        "            'Address': '31 Mystic Street, Everett, MA',\n",
        "            'Note': 'This lot is directly across the street from the resort',\n",
        "            'Cost': 'FREE'\n",
        "        }\n",
        "    },\n",
        "    'Tour and Charter Buses': {\n",
        "        'Description': 'Tour and charter bus companies wishing to pick up and drop off on Encore property should contact us in advance of the travel date. Please email ebhtransportationsupervisors@encorebostonharbor.com with trip details or questions.',\n",
        "        'Note': 'There is no on-site parking for over-sized vehicles at Encore. Also, there is no on-street parking in the City of Everett.'\n",
        "    }\n",
        "}\n",
        "\n",
        "\n"
      ],
      "metadata": {
        "id": "X5HcGbD6PXiT"
      },
      "execution_count": 12,
      "outputs": []
    },
    {
      "cell_type": "code",
      "source": [
        "driving_directions = {\n",
        "    'Encore Boston Harbor': {\n",
        "        'Address': 'One Broadway, Everett, MA 02149',\n",
        "        'From the North': 'Follow 95 South to Exit 55A for 93 South. Follow 93 South to Exit 20 Charlestown/Assembly Sq./Sullivan Sq. Merge onto Mystic Ave. Take the ramp on the left to Charlestown/Boston/Sullivan Sq. Merge onto Maffa Way. At the traffic circle, take the 4th exit onto Alford St. Slight right onto MA 99 N/Alford St. Encore Boston Harbor will be on your left in less than a half mile.',\n",
        "        'From the South': 'Follow 95 North to Exit 55A for 93 South. Follow 93 South to Exit 20 Route 99/Sullivan Sq./Somerville. Turn right onto Cambridge St. Use any lane to turn slightly right onto Maffa Way. At the traffic circle, take the 3rd exit onto Alford St. Slight right onto MA-99 N/Alford St. Encore Boston Harbor will be on your left in less than a half mile.',\n",
        "        'From the West': 'Follow 90 East (Mass Pike) to Exit 134B for 93 North. Follow 93 North to Exit 20 Route 99/Sullivan Sq./Somerville. Turn right onto Cambridge St. Use any lane to turn slightly right onto Maffa Way. At the traffic circle, take the 3rd exit onto Alford St. Slight right onto MA-99 N/Alford St. Encore Boston Harbor will be on your left in less than a half mile.',\n",
        "        'From Logan': 'Follow signs for 1A South/93 North/Sumner Tunnel. Keep left to stay on 1A South. Use the left lane to take the 93 North exit. Follow 93 North to Exit 20 Route 99/Sullivan Sq./Somerville. Turn right onto Cambridge St. Use any lane to turn slightly right onto Maffa Way. At the traffic circle, take the 3rd exit onto Alford St. Slight right onto MA-99 N/Alford St. Encore Boston Harbor will be on your left in less than a half mile.'\n",
        "    },\n",
        "    'Encore Boston Harbor Career Center': {\n",
        "        'Address': '3 Charlton Street, Everett, MA 02149',\n",
        "        'From the North': 'Follow 95 South to Exit 55A for 93 South. Follow 93 South to Exit 20 Charlestown/Assembly Sq./Sullivan Sq. Merge onto Mystic Ave. Take the ramp on the left to Charlestown/Boston/Sullivan Sq. Merge onto Maffa Way. At the traffic circle, take the 4th exit onto Alford St. Slight right onto MA 99 N/Alford St. Proceed half a mile, past The Encore Boston Harbor on your left proceeding through the lighted intersection. Turn left at the second lighted intersection. Turn right onto Charlton St. and proceed to the stop sign. The Career Center will be diagonally (left) across the street.',\n",
        "        'From the South': 'Follow 95 North to Exit 26 for 93 North. Follow 93 North to Exit 20 Route 99/Sullivan Sq./Somerville. Turn right onto Cambridge St. Use any lane to turn slightly right onto Maffa Way. At the traffic circle, take the 3rd exit onto Alford St. Slight right onto MA-99 N/Alford St. Proceed half a mile, past The Encore Boston Harbor on your left proceeding through the lighted intersection. Turn left at the second lighted intersection. Turn right onto Charlton St. and proceed to the stop sign. The Career Center will be diagonally (left) across the street.',\n",
        "        'From the West': 'Follow 90 East (Mass Pike) to Exit 134B for 93 North. Follow 93 North to Exit 20 Route 99/Sullivan Sq./Somerville. Turn right onto Cambridge St. Use any lane to turn slightly right onto Maffa Way. At the traffic circle, take the 3rd exit onto Alford St. Slight right onto MA-99 N/Alford St. Proceed half a mile, passing The Encore Boston Harbor on your left proceeding through the lighted intersection. Turn left at the second lighted intersection. Turn right onto Charlton St. and proceed to the stop sign. The Career Center will be diagonally (left) across the street.',\n",
        "        'From Logan': 'Follow signs for 1A South/93 North/Sumner Tunnel. Keep left to stay on 1A South. Use the left lane to take the 93 North exit. Follow 93 North to Exit 20 Route 99/Sullivan Sq./Somerville. Turn right onto Cambridge St. Use any lane to turn slightly right onto Maffa Way. At the traffic circle, take the 3rd exit onto Alford St. Slight right onto MA-99 N/Alford St. Proceed half a mile, passing The Encore Boston Harbor on your left proceeding through the lighted intersection. Turn left at the second lighted intersection. Turn right onto Charlton St. and proceed to the stop sign. The Career Center will be diagonally (left) across the street.'\n",
        "    }\n",
        "}"
      ],
      "metadata": {
        "id": "5dC1mnbqQsZ-"
      },
      "execution_count": 13,
      "outputs": []
    },
    {
      "cell_type": "code",
      "source": [
        "parking_options['Driving_directions'] = driving_directions"
      ],
      "metadata": {
        "id": "tIvnQ0CxRFGn"
      },
      "execution_count": 14,
      "outputs": []
    },
    {
      "cell_type": "code",
      "source": [
        "parking_options"
      ],
      "metadata": {
        "colab": {
          "base_uri": "https://localhost:8080/"
        },
        "id": "Fed6aau9RN61",
        "outputId": "b4f29692-8cde-4c97-d2f0-a427d37d4978"
      },
      "execution_count": 15,
      "outputs": [
        {
          "output_type": "execute_result",
          "data": {
            "text/plain": [
              "{'Onsite Parking': {'Description': \"If you plan on driving here, we offer convenient, indoor parking with direct access to our resort. Encore Boston Harbor is now offering free self-parking daily. On weekends and holidays, we recommend visitors use our free Encore shuttles from the Wellington MBTA stations, or park at Encore's Rivergreen facility in Everett and take our free Neighborhood Runner shuttle which runs 7 days-a-week. Learn more. See more information about parking below.\",\n",
              "  'Cost': 'FREE. Self-Parking is complimentary for all guests, subject to availability.',\n",
              "  'AdditionalInfo': 'Complimentary electric vehicle charging stations are conveniently located on every level of the self-parking garage.'},\n",
              " 'Valet Services': {'Description': 'Valet parking service is available to all guests, subject to availability. Just pull up to our main entrance at the Porte Cochère, look for one of our valet attendants and leave the parking to us.',\n",
              "  'Cost': {'Wynn Rewards Members': 'FREE', 'Guests': '$5'}},\n",
              " 'Electronic Vehicle Charging': {'Description': 'Plug in and charge up for free while you play, dine, shop, and explore.',\n",
              "  'Details': 'Encore Boston Harbor offers 59 EV charging stations conveniently located in self-parking and valet. They are all free. Never search for a spot to charge—check out our charging stations with eight spots located in Black Tier Parking, and an additional 40 on levels B2 and B3 of the free self-parking garage. Each charging port features 25 feet of cable with an output of 208v and 64 amps. If you are using valet, ask an attendant to plug in your vehicle.',\n",
              "  'Cost': 'FREE.'},\n",
              " 'Offsite Parking': {'Description': 'We offer additional parking at offsite locations near our resort. You can also park at select locations around Boston, then let a free Encore Shuttle or Runner take you the rest of the way.',\n",
              "  'Community Parking Lot': {'Address': '31 Mystic Street, Everett, MA',\n",
              "   'Note': 'This lot is directly across the street from the resort',\n",
              "   'Cost': 'FREE'}},\n",
              " 'Tour and Charter Buses': {'Description': 'Tour and charter bus companies wishing to pick up and drop off on Encore property should contact us in advance of the travel date. Please email ebhtransportationsupervisors@encorebostonharbor.com with trip details or questions.',\n",
              "  'Note': 'There is no on-site parking for over-sized vehicles at Encore. Also, there is no on-street parking in the City of Everett.'},\n",
              " 'Driving_directions': {'Encore Boston Harbor': {'Address': 'One Broadway, Everett, MA 02149',\n",
              "   'From the North': 'Follow 95 South to Exit 55A for 93 South. Follow 93 South to Exit 20 Charlestown/Assembly Sq./Sullivan Sq. Merge onto Mystic Ave. Take the ramp on the left to Charlestown/Boston/Sullivan Sq. Merge onto Maffa Way. At the traffic circle, take the 4th exit onto Alford St. Slight right onto MA 99 N/Alford St. Encore Boston Harbor will be on your left in less than a half mile.',\n",
              "   'From the South': 'Follow 95 North to Exit 55A for 93 South. Follow 93 South to Exit 20 Route 99/Sullivan Sq./Somerville. Turn right onto Cambridge St. Use any lane to turn slightly right onto Maffa Way. At the traffic circle, take the 3rd exit onto Alford St. Slight right onto MA-99 N/Alford St. Encore Boston Harbor will be on your left in less than a half mile.',\n",
              "   'From the West': 'Follow 90 East (Mass Pike) to Exit 134B for 93 North. Follow 93 North to Exit 20 Route 99/Sullivan Sq./Somerville. Turn right onto Cambridge St. Use any lane to turn slightly right onto Maffa Way. At the traffic circle, take the 3rd exit onto Alford St. Slight right onto MA-99 N/Alford St. Encore Boston Harbor will be on your left in less than a half mile.',\n",
              "   'From Logan': 'Follow signs for 1A South/93 North/Sumner Tunnel. Keep left to stay on 1A South. Use the left lane to take the 93 North exit. Follow 93 North to Exit 20 Route 99/Sullivan Sq./Somerville. Turn right onto Cambridge St. Use any lane to turn slightly right onto Maffa Way. At the traffic circle, take the 3rd exit onto Alford St. Slight right onto MA-99 N/Alford St. Encore Boston Harbor will be on your left in less than a half mile.'},\n",
              "  'Encore Boston Harbor Career Center': {'Address': '3 Charlton Street, Everett, MA 02149',\n",
              "   'From the North': 'Follow 95 South to Exit 55A for 93 South. Follow 93 South to Exit 20 Charlestown/Assembly Sq./Sullivan Sq. Merge onto Mystic Ave. Take the ramp on the left to Charlestown/Boston/Sullivan Sq. Merge onto Maffa Way. At the traffic circle, take the 4th exit onto Alford St. Slight right onto MA 99 N/Alford St. Proceed half a mile, past The Encore Boston Harbor on your left proceeding through the lighted intersection. Turn left at the second lighted intersection. Turn right onto Charlton St. and proceed to the stop sign. The Career Center will be diagonally (left) across the street.',\n",
              "   'From the South': 'Follow 95 North to Exit 26 for 93 North. Follow 93 North to Exit 20 Route 99/Sullivan Sq./Somerville. Turn right onto Cambridge St. Use any lane to turn slightly right onto Maffa Way. At the traffic circle, take the 3rd exit onto Alford St. Slight right onto MA-99 N/Alford St. Proceed half a mile, past The Encore Boston Harbor on your left proceeding through the lighted intersection. Turn left at the second lighted intersection. Turn right onto Charlton St. and proceed to the stop sign. The Career Center will be diagonally (left) across the street.',\n",
              "   'From the West': 'Follow 90 East (Mass Pike) to Exit 134B for 93 North. Follow 93 North to Exit 20 Route 99/Sullivan Sq./Somerville. Turn right onto Cambridge St. Use any lane to turn slightly right onto Maffa Way. At the traffic circle, take the 3rd exit onto Alford St. Slight right onto MA-99 N/Alford St. Proceed half a mile, passing The Encore Boston Harbor on your left proceeding through the lighted intersection. Turn left at the second lighted intersection. Turn right onto Charlton St. and proceed to the stop sign. The Career Center will be diagonally (left) across the street.',\n",
              "   'From Logan': 'Follow signs for 1A South/93 North/Sumner Tunnel. Keep left to stay on 1A South. Use the left lane to take the 93 North exit. Follow 93 North to Exit 20 Route 99/Sullivan Sq./Somerville. Turn right onto Cambridge St. Use any lane to turn slightly right onto Maffa Way. At the traffic circle, take the 3rd exit onto Alford St. Slight right onto MA-99 N/Alford St. Proceed half a mile, passing The Encore Boston Harbor on your left proceeding through the lighted intersection. Turn left at the second lighted intersection. Turn right onto Charlton St. and proceed to the stop sign. The Career Center will be diagonally (left) across the street.'}}}"
            ]
          },
          "metadata": {},
          "execution_count": 15
        }
      ]
    },
    {
      "cell_type": "code",
      "source": [
        "mbta_data = {\n",
        "    'Description': 'For people all around the Boston area, public transportation is the fastest way to go. Ride the MBTA to Wellington Station and take a free shuttle to Encore Boston Harbor.',\n",
        "    'Stations': {\n",
        "        'Wellington Station': {\n",
        "            'Description': 'Wellington Station is an MBTA transit station located in Medford, Massachusetts. It serves the Orange Line.',\n",
        "            'Shuttle': 'Take a free shuttle from Wellington Station to Encore Boston Harbor.'\n",
        "        }\n",
        "    }\n",
        "}"
      ],
      "metadata": {
        "id": "U_eW03x9RPm0"
      },
      "execution_count": 16,
      "outputs": []
    },
    {
      "cell_type": "code",
      "source": [
        "local_shuttle_service = {\n",
        "    'Encore Local Shuttle': {\n",
        "        'Description': 'When you get off the Orange Line at Wellington Station, the FREE Encore Shuttle will take you the rest of the way. First bus leaves Wellington Station at 10:30 a.m. and the last bus leaves Encore at 9 p.m.',\n",
        "        'To/From Wellington Station': {\n",
        "            'Service Hours': '10 a.m.–9 p.m. (no service 9 p.m.–10 a.m.)',\n",
        "            'Frequency': 'Every 60 minutes.',\n",
        "            'Trip Duration': 'Approximately 5–8 minutes from Wellington.',\n",
        "            'Capacity/Accessibility': '32 seats with additional standing room, ADA wheelchair accessible.',\n",
        "            'Cost': 'Free'\n",
        "        }\n",
        "    },\n",
        "    'Encore Neighborhood Runner': {\n",
        "        'Description': 'Our Encore Neighborhood Runner will pick you up from our shuttle stop across from the Chelsea Silver Line station and select locations in Everett. This is a free, convenient ride that runs daily and drops you off right at our front door.',\n",
        "        'Service Hours': '8 a.m.–10:40 p.m. (no service 10:40 p.m.–8 a.m.)',\n",
        "        'Frequency': 'Continuous every 40 minutes from Chelsea and Everett locations.',\n",
        "        'Trip Duration': 'Approximately 40 minutes from Chelsea Silver Line Stop.',\n",
        "        'Capacity/Accessibility': '27 passenger, ADA wheelchair accessible.',\n",
        "        'Cost': 'Free'\n",
        "    },\n",
        "    'Chinatown Runner': {\n",
        "        'Description': 'Our Encore Neighborhood Runner will pick you up from our shuttle stop at the corner of John F Fitzgerald Surface Road at Kneeland Street.',\n",
        "        'Hours Of Operation': 'See schedule below.',\n",
        "        'Trip Duration': 'Approximately 45 minutes.',\n",
        "        'Capacity/Accessibility': '32 seats with additional standing room, low-floor transit buses, ADA wheelchair accessible.',\n",
        "        'Cost': 'Free'\n",
        "    },\n",
        "    'Quincy Runner': {\n",
        "        'Description': 'Our Quincy Runner has three separate stops at 219 Quincy Avenue, Quincy, MA, 733 Hancock Street, Quincy, MA, and 238 Hancock Street, Quincy, MA.',\n",
        "        'Hours Of Operation': 'Saturdays and Sundays, see schedule below.',\n",
        "        'Capacity/Accessibility': '27 passenger, ADA wheelchair accessible.',\n",
        "        'Cost': 'Free'\n",
        "    }\n",
        "}\n",
        "\n",
        "\n"
      ],
      "metadata": {
        "id": "-EJ4lXN5TANW"
      },
      "execution_count": 17,
      "outputs": []
    },
    {
      "cell_type": "code",
      "source": [
        "free_water_shuttle = {\n",
        "    'Overview': 'Getting here is almost as fun as being here. Our luxury motor yachts depart day and night from Long Wharf North in downtown Boston. Climb aboard, enjoy the ocean breezes, be here before you know it.',\n",
        "    'Departure Location': 'Long Wharf North in downtown Boston',\n",
        "    'Operating Period': 'October 2 through April 28, 2024',\n",
        "\n",
        "    'Red Top Boats': {\n",
        "        'Description': 'Guests may ride the Red Top Boats shuttle service to and from Encore Boston Harbor and Logan Airport. Boats are covered, heated and run year-round.',\n",
        "        'Cost': {\n",
        "            'One to three guests': '$45',\n",
        "            'Each additional guest': '$15'\n",
        "        },\n",
        "        'Booking': 'Please call 617-982-3298 to book your trip.'\n",
        "    },\n",
        "\n",
        "    'Water Transportation Dock': {\n",
        "        'AdditionalInfo': 'In addition to the Encore Premium Harbor Shuttle, local water taxis and private vessels may use the Encore Boston Harbor boat dock to drop off and pick up visitors. Vessels will be permitted to “touch and go.”',\n",
        "        'Short-Term Dockage Reservations': 'Encore Boston Harbor is now taking reservations for short-term dockage through Dockwa, an online marine reservation system. With Dockwa, private vessel owners can easily make a reservation for short-term stays at Encore’s dock. Sign up is free. Learn more or make your reservation online.',\n",
        "        'ContactInformation': 'Water taxis and charter vessels wishing to operate at Encore Boston Harbor should contact Encore Boston Harbor’s Dockmaster at transportation@encorebostonharbor.com for more information.'\n",
        "    }\n",
        "}\n",
        "\n"
      ],
      "metadata": {
        "id": "hpzmbw5qTCcF"
      },
      "execution_count": 18,
      "outputs": []
    },
    {
      "cell_type": "code",
      "source": [
        "free_dock_access = {\n",
        "    'Overview': 'In addition to the Encore Premium Harbor Shuttle, local water taxis and private vessels may use the Encore Boston Harbor boat dock to drop off and pick up visitors. Vessels will be permitted to “touch and go.\"',\n",
        "\n",
        "    'Short-Term Dockage Reservations': {\n",
        "        'Info': 'Encore Boston Harbor is now taking reservations for short-term dockage through Dockwa, an online marine reservation system.',\n",
        "        'Details': 'With Dockwa, private vessel owners can easily make a reservation for short-term stays at Encore’s dock. Sign up is free.',\n",
        "        'ReservationLink': 'Learn more or make your reservation online.'\n",
        "    },\n",
        "\n",
        "    'ContactInformation': 'Water taxis and charter vessels wishing to operate at Encore Boston Harbor should contact Encore Boston Harbor’s Dockmaster at transportation@encorebostonharbor.com for more information.'\n",
        "}"
      ],
      "metadata": {
        "id": "4sCZQUE2Ud5e"
      },
      "execution_count": 19,
      "outputs": []
    },
    {
      "cell_type": "code",
      "source": [
        "td_garden_shuttle = {\n",
        "    'Overview': 'To and from TD Garden to Encore Boston Harbor',\n",
        "    'Locations': {\n",
        "        'TD Garden Pickup Location': 'Corner of Causeway and Beverly Street',\n",
        "        'Encore Boston Harbor Pickup Location': 'East Lobby at Encore Boston Harbor'\n",
        "    },\n",
        "    'Operating Schedule': {\n",
        "        'Frequency': 'Continuous one hour before and one hour after every Bruins and Celtics home game',\n",
        "        'Trip Duration': 'Approximately 5–8 minutes from TD Garden'\n",
        "    },\n",
        "    'Capacity': '27 passengers, ADA wheelchair accessible',\n",
        "    'Cost': {\n",
        "        'One-Way': 'Free'\n",
        "    }\n",
        "}"
      ],
      "metadata": {
        "id": "68LxiSaRUeeu"
      },
      "execution_count": 20,
      "outputs": []
    },
    {
      "cell_type": "code",
      "source": [
        "red_top_boats = {\n",
        "    'Overview': 'Guests may ride the Red Top Boats shuttle service to and from Encore Boston Harbor.',\n",
        "    'ShuttleStops': [\n",
        "        'Logan Airport', 'Liberty Wharf', 'Pier 4', 'Fan Pier', 'Barking Crab', 'Intercontinental',\n",
        "        'Atlantic Wharf', 'Aquarium', 'Sergeants Wharf', 'Battery Wharf', 'Lovejoy Wharf',\n",
        "        'Charlestown Navy Yard', 'Reel House', 'Lewis Mall', 'Boston Shipyard and Marina'\n",
        "    ],\n",
        "    'Cost': {\n",
        "        'One to three guests': '$45',\n",
        "        'Each additional guest': '$15'\n",
        "    },\n",
        "    'OperatingHours': 'Boats run 8 a.m.–8 p.m. daily.',\n",
        "    'BookingInfo': 'Please call 617-982-3298 to book your trip.'\n",
        "}"
      ],
      "metadata": {
        "id": "cF6DKAVKVjqW"
      },
      "execution_count": 21,
      "outputs": []
    },
    {
      "cell_type": "code",
      "source": [
        "bike_racks = {\n",
        "    'Overview': 'Our Harborwalk is a spectacular place to wander and wonder. It also happens to be a fast, beautiful way to get here on a bike. Bicycle racks are available at locations throughout our property. So why spin your wheels driving?',\n",
        "    'ParkingLocations': [\n",
        "        'Encore Boston Harbor garage'\n",
        "    ],\n",
        "    'Capacity': '96 spaces that can accommodate up to 192 bicycles.'\n",
        "}"
      ],
      "metadata": {
        "id": "IuiXhHU7VkLM"
      },
      "execution_count": 22,
      "outputs": []
    },
    {
      "cell_type": "code",
      "source": [
        "Transportation_to_encore = {\n",
        "    'Overview': 'To make getting to our world-class resort as easy as possible, we created a variety of road and water transportation options, to enjoy effortless, direct rides from the T and other locations throughout Boston, as well as surrounding areas. If you plan on driving here, we now offer free self-parking with direct access to our resort. Explore all the great ways to travel here.',\n",
        "    'ParkingRecommendations': {\n",
        "        'Weekends_Holidays': 'On weekends and holidays, our busiest times, we recommend visitors park at the Wellington MBTA Station and use our free Encore shuttle, or park at Encore\\'s Rivergreen parking facility and take our free Neighborhood Runner shuttle direct to our resort.'\n",
        "    },\n",
        "\n",
        "    'Directions' : Directions,\n",
        "    'Parking_options' : parking_options,\n",
        "    'MBTA_train_buses' : mbta_data,\n",
        "    'Encore_local_shuttle_service' : local_shuttle_service,\n",
        "    'Free_Water_Shuttle' : free_water_shuttle,\n",
        "    'Free_Dock_Access' : free_dock_access,\n",
        "    'TD_Garden_Shuttle' : td_garden_shuttle,\n",
        "    'Red_Top_Boasts' : red_top_boats,\n",
        "    'Bike_Racks' : bike_racks\n",
        "\n",
        "}"
      ],
      "metadata": {
        "id": "JVV6uWMWV_L_"
      },
      "execution_count": 23,
      "outputs": []
    },
    {
      "cell_type": "code",
      "source": [
        "Transportation_to_encore"
      ],
      "metadata": {
        "colab": {
          "base_uri": "https://localhost:8080/"
        },
        "id": "UPt04hgEYy4N",
        "outputId": "094e5b31-7cb2-4126-9187-6a36dd0dec8c"
      },
      "execution_count": 24,
      "outputs": [
        {
          "output_type": "execute_result",
          "data": {
            "text/plain": [
              "{'Overview': 'To make getting to our world-class resort as easy as possible, we created a variety of road and water transportation options, to enjoy effortless, direct rides from the T and other locations throughout Boston, as well as surrounding areas. If you plan on driving here, we now offer free self-parking with direct access to our resort. Explore all the great ways to travel here.',\n",
              " 'ParkingRecommendations': {'Weekends_Holidays': \"On weekends and holidays, our busiest times, we recommend visitors park at the Wellington MBTA Station and use our free Encore shuttle, or park at Encore's Rivergreen parking facility and take our free Neighborhood Runner shuttle direct to our resort.\"},\n",
              " 'Directions': {'Details': 'Whether you are traveling here from the North Shore or West Boston, New Hampshire or New Jersey, you have a choice of public and Encore transportation. See how to get to Encore Boston Harbor from where you live. ',\n",
              "  'Location_data': {'MASSACHUSETTS': {'WITHIN BOSTON': {'MBTA Orange Line': 'Take the MBTA Orange Line to Wellington station where our free, frequent Encore Shuttle will bring you to our front door. Take the MBTA Orange Line to Sullivan Station, and take MBTA Bus Routes 104, 105 and 109 to Encore. Visit the MBTA for up-to-date subway and bus information.',\n",
              "     'MBTA Silver Line': 'Take the MBTA Silver Line (SL3) to Chelsea Station, then ride our free Encore Neighborhood Runner to the resort from our bus stop located next to Market Basket.',\n",
              "     'MBTA Blue Line': 'Take the MBTA to Aquarium Station and hop on the Encore Premium Harbor Shuttle for a direct ride to the resort from Long Wharf, located at the MBTA dock near Christopher Columbus Park.',\n",
              "     'Chinatown Runner': 'Take our luxury Encore minicoach in downtown Boston, MA directly to the resort. The free pickup and drop off location is at the corner of John F Fitzgerald Surface Road at Kneeland Street. There is no parking at that location, so please plan accordingly. Learn more.',\n",
              "     'Premium Harbor Shuttle': 'Cruise to Encore Boston Harbor in style on our Premium Harbor Shuttle, leaving from Long Wharf in downtown Boston at the MBTA dock near Christopher Columbus Park.',\n",
              "     'Bicycle': 'Ride your bike to the resort and take advantage of our ample bicycle parking. Or, rent a BlueBike from one of dozens of locations around the city and drop it off at our on-site BlueBikes dock.',\n",
              "     'Everett Neighborhood Runner': 'Our Encore Neighborhood Runner will pick you up from our shuttle stop across from the Chelsea Silver Line station and select locations in Everett. This is a free, convenient ride that runs daily and drops you off right at our front door. Learn more.'},\n",
              "    'NORTH SHORE': {'Commuter Rail or MBTA': 'Take the Newburyport or Rockport Commuter Rail to Chelsea Commuter Rail Station and walk .5 miles to our nearest Encore Neighborhood Runner bus stop located beside Market Basket and across from the MBTA Silver Line Chelsea Station. Take the free Encore Neighborhood Runner to Encore.',\n",
              "     'Amtrak Downeaster': 'Take the Amtrak Downeaster to North Station. Hop on the MBTA Orange Line to Wellington, where our free, frequent Encore Shuttle will bring you to our front door.',\n",
              "     'Commuter Rail': 'Hop on the Haverhill Rail to the MBTA Malden Station. Take the MBTA Orange Line to Wellington, where our free, frequent Encore Shuttle will bring you to the resort.'},\n",
              "    'SOUTH OF BOSTON and CAPE COD': {'Commuter Rail or MBTA': 'Take your local Commuter Rail Line to South Station or park your car at the Quincy MBTA parking lot and ride the T. Once in Boston, take the MBTA Orange Line to Wellington, where our free, frequent Encore Shuttle will bring you to our front door.'},\n",
              "    'WEST OF BOSTON': {'Commuter Rail': 'Hop on your local Commuter Rail Line into Boston. Take the MBTA Orange Line to Wellington, where our free, frequent Encore shuttle service will bring you to our front door.'}},\n",
              "   'NEW HAMPSHIRE, VERMONT, MAINE': {'Amtrak Downeaster': 'Take the Amtrak Downeaster to North Station. Hop on the MBTA Orange Line to Wellington, where our free, frequent Encore Shuttle will bring you to our front door.',\n",
              "    'Commuter Rail or MBTA': 'Take the Newburyport Commuter Rail to North Station or park your car at the Wonderland MBTA parking lot and ride the T. Or, from Wonderland, take the MBTA to Aquarium and hop on the Encore Premium Harbor Shuttle for service directly to the resort from Long Wharf in downtown Boston, at the MBTA dock located near Christopher Columbus Park.'},\n",
              "   'RHODE ISLAND': {'Commuter Rail': 'Hop on the Providence/Stoughton Commuter Rail to Back Bay. Take the MBTA Orange Line to Wellington, where our free, frequent Encore Shuttle will bring you to the resort.'},\n",
              "   'CONNECTICUT, NEW YORK, NEW JERSEY': {'From Back Bay Station': 'Take the MBTA Orange Line to Wellington where our free, frequent Encore Shuttle will bring you to our front door.',\n",
              "    'From South Station': 'Take the MBTA Red Line to the Orange Line via Downtown Crossing, where our free, frequent Encore Shuttle will bring you from Wellington MBTA Station to our front door.'},\n",
              "   'FROM LOGAN AIRPORT': {'MBTA': 'Take the MBTA Blue Line to the Orange Line via State, then relax on our free Encore Shuttle from Wellington MBTA Station to the resort.'}}},\n",
              " 'Parking_options': {'Onsite Parking': {'Description': \"If you plan on driving here, we offer convenient, indoor parking with direct access to our resort. Encore Boston Harbor is now offering free self-parking daily. On weekends and holidays, we recommend visitors use our free Encore shuttles from the Wellington MBTA stations, or park at Encore's Rivergreen facility in Everett and take our free Neighborhood Runner shuttle which runs 7 days-a-week. Learn more. See more information about parking below.\",\n",
              "   'Cost': 'FREE. Self-Parking is complimentary for all guests, subject to availability.',\n",
              "   'AdditionalInfo': 'Complimentary electric vehicle charging stations are conveniently located on every level of the self-parking garage.'},\n",
              "  'Valet Services': {'Description': 'Valet parking service is available to all guests, subject to availability. Just pull up to our main entrance at the Porte Cochère, look for one of our valet attendants and leave the parking to us.',\n",
              "   'Cost': {'Wynn Rewards Members': 'FREE', 'Guests': '$5'}},\n",
              "  'Electronic Vehicle Charging': {'Description': 'Plug in and charge up for free while you play, dine, shop, and explore.',\n",
              "   'Details': 'Encore Boston Harbor offers 59 EV charging stations conveniently located in self-parking and valet. They are all free. Never search for a spot to charge—check out our charging stations with eight spots located in Black Tier Parking, and an additional 40 on levels B2 and B3 of the free self-parking garage. Each charging port features 25 feet of cable with an output of 208v and 64 amps. If you are using valet, ask an attendant to plug in your vehicle.',\n",
              "   'Cost': 'FREE.'},\n",
              "  'Offsite Parking': {'Description': 'We offer additional parking at offsite locations near our resort. You can also park at select locations around Boston, then let a free Encore Shuttle or Runner take you the rest of the way.',\n",
              "   'Community Parking Lot': {'Address': '31 Mystic Street, Everett, MA',\n",
              "    'Note': 'This lot is directly across the street from the resort',\n",
              "    'Cost': 'FREE'}},\n",
              "  'Tour and Charter Buses': {'Description': 'Tour and charter bus companies wishing to pick up and drop off on Encore property should contact us in advance of the travel date. Please email ebhtransportationsupervisors@encorebostonharbor.com with trip details or questions.',\n",
              "   'Note': 'There is no on-site parking for over-sized vehicles at Encore. Also, there is no on-street parking in the City of Everett.'},\n",
              "  'Driving_directions': {'Encore Boston Harbor': {'Address': 'One Broadway, Everett, MA 02149',\n",
              "    'From the North': 'Follow 95 South to Exit 55A for 93 South. Follow 93 South to Exit 20 Charlestown/Assembly Sq./Sullivan Sq. Merge onto Mystic Ave. Take the ramp on the left to Charlestown/Boston/Sullivan Sq. Merge onto Maffa Way. At the traffic circle, take the 4th exit onto Alford St. Slight right onto MA 99 N/Alford St. Encore Boston Harbor will be on your left in less than a half mile.',\n",
              "    'From the South': 'Follow 95 North to Exit 55A for 93 South. Follow 93 South to Exit 20 Route 99/Sullivan Sq./Somerville. Turn right onto Cambridge St. Use any lane to turn slightly right onto Maffa Way. At the traffic circle, take the 3rd exit onto Alford St. Slight right onto MA-99 N/Alford St. Encore Boston Harbor will be on your left in less than a half mile.',\n",
              "    'From the West': 'Follow 90 East (Mass Pike) to Exit 134B for 93 North. Follow 93 North to Exit 20 Route 99/Sullivan Sq./Somerville. Turn right onto Cambridge St. Use any lane to turn slightly right onto Maffa Way. At the traffic circle, take the 3rd exit onto Alford St. Slight right onto MA-99 N/Alford St. Encore Boston Harbor will be on your left in less than a half mile.',\n",
              "    'From Logan': 'Follow signs for 1A South/93 North/Sumner Tunnel. Keep left to stay on 1A South. Use the left lane to take the 93 North exit. Follow 93 North to Exit 20 Route 99/Sullivan Sq./Somerville. Turn right onto Cambridge St. Use any lane to turn slightly right onto Maffa Way. At the traffic circle, take the 3rd exit onto Alford St. Slight right onto MA-99 N/Alford St. Encore Boston Harbor will be on your left in less than a half mile.'},\n",
              "   'Encore Boston Harbor Career Center': {'Address': '3 Charlton Street, Everett, MA 02149',\n",
              "    'From the North': 'Follow 95 South to Exit 55A for 93 South. Follow 93 South to Exit 20 Charlestown/Assembly Sq./Sullivan Sq. Merge onto Mystic Ave. Take the ramp on the left to Charlestown/Boston/Sullivan Sq. Merge onto Maffa Way. At the traffic circle, take the 4th exit onto Alford St. Slight right onto MA 99 N/Alford St. Proceed half a mile, past The Encore Boston Harbor on your left proceeding through the lighted intersection. Turn left at the second lighted intersection. Turn right onto Charlton St. and proceed to the stop sign. The Career Center will be diagonally (left) across the street.',\n",
              "    'From the South': 'Follow 95 North to Exit 26 for 93 North. Follow 93 North to Exit 20 Route 99/Sullivan Sq./Somerville. Turn right onto Cambridge St. Use any lane to turn slightly right onto Maffa Way. At the traffic circle, take the 3rd exit onto Alford St. Slight right onto MA-99 N/Alford St. Proceed half a mile, past The Encore Boston Harbor on your left proceeding through the lighted intersection. Turn left at the second lighted intersection. Turn right onto Charlton St. and proceed to the stop sign. The Career Center will be diagonally (left) across the street.',\n",
              "    'From the West': 'Follow 90 East (Mass Pike) to Exit 134B for 93 North. Follow 93 North to Exit 20 Route 99/Sullivan Sq./Somerville. Turn right onto Cambridge St. Use any lane to turn slightly right onto Maffa Way. At the traffic circle, take the 3rd exit onto Alford St. Slight right onto MA-99 N/Alford St. Proceed half a mile, passing The Encore Boston Harbor on your left proceeding through the lighted intersection. Turn left at the second lighted intersection. Turn right onto Charlton St. and proceed to the stop sign. The Career Center will be diagonally (left) across the street.',\n",
              "    'From Logan': 'Follow signs for 1A South/93 North/Sumner Tunnel. Keep left to stay on 1A South. Use the left lane to take the 93 North exit. Follow 93 North to Exit 20 Route 99/Sullivan Sq./Somerville. Turn right onto Cambridge St. Use any lane to turn slightly right onto Maffa Way. At the traffic circle, take the 3rd exit onto Alford St. Slight right onto MA-99 N/Alford St. Proceed half a mile, passing The Encore Boston Harbor on your left proceeding through the lighted intersection. Turn left at the second lighted intersection. Turn right onto Charlton St. and proceed to the stop sign. The Career Center will be diagonally (left) across the street.'}}},\n",
              " 'MBTA_train_buses': {'Description': 'For people all around the Boston area, public transportation is the fastest way to go. Ride the MBTA to Wellington Station and take a free shuttle to Encore Boston Harbor.',\n",
              "  'Stations': {'Wellington Station': {'Description': 'Wellington Station is an MBTA transit station located in Medford, Massachusetts. It serves the Orange Line.',\n",
              "    'Shuttle': 'Take a free shuttle from Wellington Station to Encore Boston Harbor.'}}},\n",
              " 'Encore_local_shuttle_service': {'Encore Local Shuttle': {'Description': 'When you get off the Orange Line at Wellington Station, the FREE Encore Shuttle will take you the rest of the way. First bus leaves Wellington Station at 10:30 a.m. and the last bus leaves Encore at 9 p.m.',\n",
              "   'To/From Wellington Station': {'Service Hours': '10 a.m.–9 p.m. (no service 9 p.m.–10 a.m.)',\n",
              "    'Frequency': 'Every 60 minutes.',\n",
              "    'Trip Duration': 'Approximately 5–8 minutes from Wellington.',\n",
              "    'Capacity/Accessibility': '32 seats with additional standing room, ADA wheelchair accessible.',\n",
              "    'Cost': 'Free'}},\n",
              "  'Encore Neighborhood Runner': {'Description': 'Our Encore Neighborhood Runner will pick you up from our shuttle stop across from the Chelsea Silver Line station and select locations in Everett. This is a free, convenient ride that runs daily and drops you off right at our front door.',\n",
              "   'Service Hours': '8 a.m.–10:40 p.m. (no service 10:40 p.m.–8 a.m.)',\n",
              "   'Frequency': 'Continuous every 40 minutes from Chelsea and Everett locations.',\n",
              "   'Trip Duration': 'Approximately 40 minutes from Chelsea Silver Line Stop.',\n",
              "   'Capacity/Accessibility': '27 passenger, ADA wheelchair accessible.',\n",
              "   'Cost': 'Free'},\n",
              "  'Chinatown Runner': {'Description': 'Our Encore Neighborhood Runner will pick you up from our shuttle stop at the corner of John F Fitzgerald Surface Road at Kneeland Street.',\n",
              "   'Hours Of Operation': 'See schedule below.',\n",
              "   'Trip Duration': 'Approximately 45 minutes.',\n",
              "   'Capacity/Accessibility': '32 seats with additional standing room, low-floor transit buses, ADA wheelchair accessible.',\n",
              "   'Cost': 'Free'},\n",
              "  'Quincy Runner': {'Description': 'Our Quincy Runner has three separate stops at 219 Quincy Avenue, Quincy, MA, 733 Hancock Street, Quincy, MA, and 238 Hancock Street, Quincy, MA.',\n",
              "   'Hours Of Operation': 'Saturdays and Sundays, see schedule below.',\n",
              "   'Capacity/Accessibility': '27 passenger, ADA wheelchair accessible.',\n",
              "   'Cost': 'Free'}},\n",
              " 'Free_Water_Shuttle': {'Overview': 'Getting here is almost as fun as being here. Our luxury motor yachts depart day and night from Long Wharf North in downtown Boston. Climb aboard, enjoy the ocean breezes, be here before you know it.',\n",
              "  'Departure Location': 'Long Wharf North in downtown Boston',\n",
              "  'Operating Period': 'October 2 through April 28, 2024',\n",
              "  'Red Top Boats': {'Description': 'Guests may ride the Red Top Boats shuttle service to and from Encore Boston Harbor and Logan Airport. Boats are covered, heated and run year-round.',\n",
              "   'Cost': {'One to three guests': '$45', 'Each additional guest': '$15'},\n",
              "   'Booking': 'Please call 617-982-3298 to book your trip.'},\n",
              "  'Water Transportation Dock': {'AdditionalInfo': 'In addition to the Encore Premium Harbor Shuttle, local water taxis and private vessels may use the Encore Boston Harbor boat dock to drop off and pick up visitors. Vessels will be permitted to “touch and go.”',\n",
              "   'Short-Term Dockage Reservations': 'Encore Boston Harbor is now taking reservations for short-term dockage through Dockwa, an online marine reservation system. With Dockwa, private vessel owners can easily make a reservation for short-term stays at Encore’s dock. Sign up is free. Learn more or make your reservation online.',\n",
              "   'ContactInformation': 'Water taxis and charter vessels wishing to operate at Encore Boston Harbor should contact Encore Boston Harbor’s Dockmaster at transportation@encorebostonharbor.com for more information.'}},\n",
              " 'Free_Dock_Access': {'Overview': 'In addition to the Encore Premium Harbor Shuttle, local water taxis and private vessels may use the Encore Boston Harbor boat dock to drop off and pick up visitors. Vessels will be permitted to “touch and go.\"',\n",
              "  'Short-Term Dockage Reservations': {'Info': 'Encore Boston Harbor is now taking reservations for short-term dockage through Dockwa, an online marine reservation system.',\n",
              "   'Details': 'With Dockwa, private vessel owners can easily make a reservation for short-term stays at Encore’s dock. Sign up is free.',\n",
              "   'ReservationLink': 'Learn more or make your reservation online.'},\n",
              "  'ContactInformation': 'Water taxis and charter vessels wishing to operate at Encore Boston Harbor should contact Encore Boston Harbor’s Dockmaster at transportation@encorebostonharbor.com for more information.'},\n",
              " 'TD_Garden_Shuttle': {'Overview': 'To and from TD Garden to Encore Boston Harbor',\n",
              "  'Locations': {'TD Garden Pickup Location': 'Corner of Causeway and Beverly Street',\n",
              "   'Encore Boston Harbor Pickup Location': 'East Lobby at Encore Boston Harbor'},\n",
              "  'Operating Schedule': {'Frequency': 'Continuous one hour before and one hour after every Bruins and Celtics home game',\n",
              "   'Trip Duration': 'Approximately 5–8 minutes from TD Garden'},\n",
              "  'Capacity': '27 passengers, ADA wheelchair accessible',\n",
              "  'Cost': {'One-Way': 'Free'}},\n",
              " 'Red_Top_Boasts': {'Overview': 'Guests may ride the Red Top Boats shuttle service to and from Encore Boston Harbor.',\n",
              "  'ShuttleStops': ['Logan Airport',\n",
              "   'Liberty Wharf',\n",
              "   'Pier 4',\n",
              "   'Fan Pier',\n",
              "   'Barking Crab',\n",
              "   'Intercontinental',\n",
              "   'Atlantic Wharf',\n",
              "   'Aquarium',\n",
              "   'Sergeants Wharf',\n",
              "   'Battery Wharf',\n",
              "   'Lovejoy Wharf',\n",
              "   'Charlestown Navy Yard',\n",
              "   'Reel House',\n",
              "   'Lewis Mall',\n",
              "   'Boston Shipyard and Marina'],\n",
              "  'Cost': {'One to three guests': '$45', 'Each additional guest': '$15'},\n",
              "  'OperatingHours': 'Boats run 8 a.m.–8 p.m. daily.',\n",
              "  'BookingInfo': 'Please call 617-982-3298 to book your trip.'},\n",
              " 'Bike_Racks': {'Overview': 'Our Harborwalk is a spectacular place to wander and wonder. It also happens to be a fast, beautiful way to get here on a bike. Bicycle racks are available at locations throughout our property. So why spin your wheels driving?',\n",
              "  'ParkingLocations': ['Encore Boston Harbor garage'],\n",
              "  'Capacity': '96 spaces that can accommodate up to 192 bicycles.'}}"
            ]
          },
          "metadata": {},
          "execution_count": 24
        }
      ]
    },
    {
      "cell_type": "code",
      "source": [],
      "metadata": {
        "id": "rBxeGykBYze8"
      },
      "execution_count": null,
      "outputs": []
    }
  ]
}